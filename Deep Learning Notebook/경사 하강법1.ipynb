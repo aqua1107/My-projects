{
 "cells": [
  {
   "cell_type": "code",
   "execution_count": 24,
   "id": "f8038c45-dd14-47ea-ac46-a1e6bbf6948d",
   "metadata": {},
   "outputs": [
    {
     "name": "stdout",
     "output_type": "stream",
     "text": [
      "2.10.0\n",
      "Epoch: 0, RMSE: 30.213942199096312, 기울기: [7.52346569], y 절편: [80.59835907]\n",
      "Epoch: 100, RMSE: 2.8860236717777323, 기울기: [2.22994555], y 절편: [79.41805502]\n",
      "Epoch: 200, RMSE: 2.8826088464380675, 기울기: [2.26013532], y 절편: [79.23789538]\n",
      "Epoch: 300, RMSE: 2.881501758172984, 기울기: [2.27732406], y 절편: [79.13532033]\n",
      "Epoch: 400, RMSE: 2.881143413326604, 기울기: [2.2871031], y 절편: [79.0769632]\n",
      "Epoch: 500, RMSE: 2.8810274836268746, 기울기: [2.29266522], y 절편: [79.04377083]\n",
      "Epoch: 600, RMSE: 2.8809899850055283, 기울기: [2.29582859], y 절편: [79.02489319]\n",
      "Epoch: 700, RMSE: 2.8809778563604618, 기울기: [2.29762766], y 절편: [79.0141571]\n",
      "Epoch: 800, RMSE: 2.8809739335110462, 기울기: [2.29865082], y 절편: [79.00805133]\n",
      "Epoch: 900, RMSE: 2.8809726647246285, 기울기: [2.2992327], y 절편: [79.00457889]\n",
      "Epoch: 1000, RMSE: 2.880972254355579, 기울기: [2.29956363], y 절편: [79.00260407]\n",
      "Epoch: 1100, RMSE: 2.880972121628225, 기울기: [2.29975183], y 절편: [79.00148097]\n",
      "Epoch: 1200, RMSE: 2.88097207869968, 기울기: [2.29985886], y 절편: [79.00084225]\n",
      "Epoch: 1300, RMSE: 2.8809720648151282, 기울기: [2.29991973], y 절편: [79.000479]\n",
      "Epoch: 1400, RMSE: 2.880972060324397, 기울기: [2.29995435], y 절편: [79.00027241]\n",
      "Epoch: 1500, RMSE: 2.8809720588719343, 기울기: [2.29997404], y 절편: [79.00015492]\n",
      "Epoch: 1600, RMSE: 2.8809720584021608, 기울기: [2.29998524], y 절편: [79.00008811]\n",
      "Epoch: 1700, RMSE: 2.8809720582502196, 기울기: [2.2999916], y 절편: [79.00005011]\n",
      "Epoch: 1800, RMSE: 2.8809720582010825, 기울기: [2.29999522], y 절편: [79.0000285]\n",
      "Epoch: 1900, RMSE: 2.8809720581851854, 기울기: [2.29999728], y 절편: [79.00001621]\n",
      "Epoch: 2000, RMSE: 2.8809720581800415, 기울기: [2.29999846], y 절편: [79.00000922]\n"
     ]
    }
   ],
   "source": [
    "import tensorflow.compat.v1 as tf\n",
    "tf.disable_v2_behavior()\n",
    "\n",
    "print(tf.__version__)\n",
    "\n",
    "data = [[2,81], [4,93], [6,91], [8,97]]\n",
    "\n",
    "x_data = [x_row[0] for x_row in data]\n",
    "y_data = [y_row[1] for y_row in data]\n",
    "\n",
    "a = tf.Variable(tf.random.uniform([1], 0, 10, dtype = tf.float64, seed = 0))\n",
    "b = tf.Variable(tf.random.uniform([1], 0, 100, dtype = tf.float64, seed = 0))\n",
    "\n",
    "y = a * x_data + b\n",
    "learning_rate = 0.1\n",
    "rmse = tf.sqrt(tf.reduce_mean(tf.square(y - y_data)))\n",
    "\n",
    "gradient_decent = tf.compat.v1.train.GradientDescentOptimizer(learning_rate).minimize(rmse)\n",
    "\n",
    "with tf.compat.v1.Session() as sess:\n",
    "    sess.run(tf.compat.v1.global_variables_initializer())\n",
    "    for step in range(2001):\n",
    "        sess.run(gradient_decent)\n",
    "        if step % 100 == 0:\n",
    "            print(f\"Epoch: {step}, RMSE: {sess.run(rmse)}, 기울기: {sess.run(a)}, y 절편: {sess.run(b)}\")"
   ]
  },
  {
   "cell_type": "markdown",
   "id": "c38755e3-4abf-46fb-80fc-3dcb8978a39e",
   "metadata": {},
   "source": [
    "# 문제점: tensorflow가 version 2라서 Session 등 많은 함수들이 사라졌다.\n",
    "# 해결책: tensorflow 버전 2에 적응하는 것보다 버전 1로 낮추었다."
   ]
  }
 ],
 "metadata": {
  "kernelspec": {
   "display_name": "Python 3 (ipykernel)",
   "language": "python",
   "name": "python3"
  },
  "language_info": {
   "codemirror_mode": {
    "name": "ipython",
    "version": 3
   },
   "file_extension": ".py",
   "mimetype": "text/x-python",
   "name": "python",
   "nbconvert_exporter": "python",
   "pygments_lexer": "ipython3",
   "version": "3.9.19"
  }
 },
 "nbformat": 4,
 "nbformat_minor": 5
}

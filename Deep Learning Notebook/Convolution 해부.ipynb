{
 "cells": [
  {
   "cell_type": "code",
   "execution_count": 265,
   "id": "65a4819c-f867-4176-ae70-a3926a5b1179",
   "metadata": {},
   "outputs": [],
   "source": [
    "import numpy as np\n",
    "\n",
    "def Convolution(input_data, filters, stride=1, pad=0):\n",
    "    N, C, H, W = input_data.shape\n",
    "    f_N, f_C, f_H, f_W = filters.shape \n",
    "    \n",
    "    output_H = (H + 2 * pad - f_H) // stride + 1\n",
    "    output_W=  (W + 2 * pad - f_W) // stride + 1\n",
    "\n",
    "    pad_data = np.pad(input_data, [(0, 0), (0, 0), (pad, pad), (pad, pad)], 'constant')\n",
    "    \n",
    "    output = np.zeros((N, f_N, output_H, output_W))\n",
    "\n",
    "    for i in range(N):\n",
    "        for c in range(f_N):\n",
    "            for h in range(output_H):\n",
    "                h_start = h * stride\n",
    "                h_end = h_start + f_H\n",
    "                for w in range(output_W):\n",
    "                    w_start = w * stride\n",
    "                    w_end = w_start + f_W\n",
    "                    output[i, c, h, w] = np.sum(pad_data[i][:, h_start:h_end, w_start:w_end] * filters[c])\n",
    "    return output"
   ]
  },
  {
   "cell_type": "code",
   "execution_count": 267,
   "id": "39f5dcea-cc3f-44c2-b179-a809c4aee42c",
   "metadata": {},
   "outputs": [
    {
     "name": "stdout",
     "output_type": "stream",
     "text": [
      "Images: (2, 3, 5, 5)\n"
     ]
    }
   ],
   "source": [
    "X = np.asarray([\n",
    "# image 1\n",
    "[\n",
    "    [[1, 2, 9, 2, 7],\n",
    "    [5, 0, 3, 1, 8],\n",
    "    [4, 1, 3, 0, 6],\n",
    "    [2, 5, 2, 9, 5],\n",
    "    [6, 5, 1, 3, 2]],\n",
    "\n",
    "    [[4, 5, 7, 0, 8],\n",
    "    [5, 8, 5, 3, 5],\n",
    "    [4, 2, 1, 6, 5],\n",
    "    [7, 3, 2, 1, 0],\n",
    "    [6, 1, 2, 2, 6]],\n",
    "\n",
    "    [[3, 7, 4, 5, 0],\n",
    "    [5, 4, 6, 8, 9],\n",
    "    [6, 1, 9, 1, 6],\n",
    "    [9, 3, 0, 2, 4],\n",
    "    [1, 2, 5, 5, 2]]\n",
    "],\n",
    "# image 2\n",
    "[\n",
    "    [[7, 2, 1, 4, 2],\n",
    "    [5, 4, 6, 5, 0],\n",
    "    [1, 2, 4, 2, 8],\n",
    "    [5, 9, 0, 5, 1],\n",
    "    [7, 6, 2, 4, 6]],\n",
    "\n",
    "    [[5, 4, 2, 5, 7],\n",
    "    [6, 1, 4, 0, 5],\n",
    "    [8, 9, 4, 7, 6],\n",
    "    [4, 5, 5, 6, 7],\n",
    "    [1, 2, 7, 4, 1]],\n",
    "\n",
    "    [[7, 4, 8, 9, 7],\n",
    "    [5, 5, 8, 1, 4],\n",
    "    [3, 2, 2, 5, 2],\n",
    "    [1, 0, 3, 7, 6],\n",
    "    [4, 5, 4, 5, 5]]\n",
    "]\n",
    "])\n",
    "print('Images:', X.shape)"
   ]
  },
  {
   "cell_type": "code",
   "execution_count": 269,
   "id": "2bfd513b-c6b8-48f7-9d0d-c157711655ca",
   "metadata": {},
   "outputs": [
    {
     "name": "stdout",
     "output_type": "stream",
     "text": [
      "Filters: (3, 3, 3, 3)\n"
     ]
    }
   ],
   "source": [
    "filters = np.asarray([\n",
    "# kernel 1\n",
    "[\n",
    "    [[1, 0, 1],\n",
    "    [0, 1, 0],\n",
    "    [1, 0, 1]],\n",
    "\n",
    "    [[3, 1, 3],\n",
    "    [1, 3, 1],\n",
    "    [3, 1, 3]],\n",
    "\n",
    "    [[1, 2, 1],\n",
    "    [2, 2, 2],\n",
    "    [1, 2, 1]]\n",
    "],\n",
    "# kernel 2\n",
    "[\n",
    "    [[5, 1, 5],\n",
    "    [2, 1, 2],\n",
    "    [5, 1, 5]],\n",
    "\n",
    "    [[1, 1, 1],\n",
    "    [1, 1, 1],\n",
    "    [1, 1, 1]],\n",
    "\n",
    "    [[2, 0, 2],\n",
    "    [0, 2, 0],\n",
    "    [2, 0, 2]],\n",
    "],\n",
    "# kernel 3\n",
    "[\n",
    "    [[5, 1, 5],\n",
    "    [2, 1, 2],\n",
    "    [5, 1, 5]],\n",
    "\n",
    "    [[1, 1, 1],\n",
    "    [1, 1, 1],\n",
    "    [1, 1, 1]],\n",
    "\n",
    "    [[2, 0, 2],\n",
    "    [0, 2, 0],\n",
    "    [2, 0, 2]],\n",
    "]\n",
    "])\n",
    "print('Filters:', filters.shape)"
   ]
  },
  {
   "cell_type": "code",
   "execution_count": 271,
   "id": "06e6816b-d672-45ad-947b-d574faf7c709",
   "metadata": {},
   "outputs": [
    {
     "data": {
      "text/plain": [
       "array([[[[174., 191.],\n",
       "         [130., 122.]],\n",
       "\n",
       "        [[197., 244.],\n",
       "         [165., 159.]],\n",
       "\n",
       "        [[197., 244.],\n",
       "         [165., 159.]]],\n",
       "\n",
       "\n",
       "       [[[168., 171.],\n",
       "         [153., 185.]],\n",
       "\n",
       "        [[188., 178.],\n",
       "         [168., 200.]],\n",
       "\n",
       "        [[188., 178.],\n",
       "         [168., 200.]]]])"
      ]
     },
     "execution_count": 271,
     "metadata": {},
     "output_type": "execute_result"
    }
   ],
   "source": [
    "Convolution(X, filters, stride = 2, pad = 0)"
   ]
  },
  {
   "cell_type": "markdown",
   "id": "f5417b76-24c1-4232-82ac-426f113a726d",
   "metadata": {},
   "source": [
    "## 이렇게 합성곱을 하면, MaxPooling이 되는 것을 확인할 수 있다.\n",
    "###출처:https://ndb796.tistory.com/651"
   ]
  },
  {
   "cell_type": "code",
   "execution_count": null,
   "id": "bc6d0e90-9fea-4231-97c1-5c262c4e2aad",
   "metadata": {},
   "outputs": [],
   "source": []
  }
 ],
 "metadata": {
  "kernelspec": {
   "display_name": "Python 3 (ipykernel)",
   "language": "python",
   "name": "python3"
  },
  "language_info": {
   "codemirror_mode": {
    "name": "ipython",
    "version": 3
   },
   "file_extension": ".py",
   "mimetype": "text/x-python",
   "name": "python",
   "nbconvert_exporter": "python",
   "pygments_lexer": "ipython3",
   "version": "3.9.19"
  }
 },
 "nbformat": 4,
 "nbformat_minor": 5
}

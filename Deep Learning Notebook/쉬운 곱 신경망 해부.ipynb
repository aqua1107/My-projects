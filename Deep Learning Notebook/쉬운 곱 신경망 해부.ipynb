{
 "cells": [
  {
   "cell_type": "code",
   "execution_count": 51,
   "id": "848e58e7-b2ad-435d-8f02-b16fa9e3844c",
   "metadata": {},
   "outputs": [
    {
     "name": "stdout",
     "output_type": "stream",
     "text": [
      "11000.0\n"
     ]
    }
   ],
   "source": [
    "class MulLayer:\n",
    "    def __init__(self):\n",
    "        self.x = None\n",
    "        self.y = None\n",
    "    \n",
    "    def forward(self, x, y):\n",
    "        self.x = x\n",
    "        self.y = y\n",
    "        out = x * y\n",
    "        return out\n",
    "    \n",
    "    def backward(self, dout):\n",
    "        dx = dout * self.y\n",
    "        dy = dout * self.x\n",
    "        return dx, dy\n",
    "\n",
    "gucci = 1000\n",
    "gucci_num = 10\n",
    "tax = 1.1\n",
    "mul_gucci_layer = MulLayer()\n",
    "mul_tax_layer = MulLayer()\n",
    "gucci_price = mul_gucci_layer.forward(gucci, gucci_num)\n",
    "price = mul_tax_layer.forward(gucci_price, tax)\n",
    "print(price)"
   ]
  },
  {
   "cell_type": "code",
   "execution_count": 63,
   "id": "3d21583d-f520-4a6f-b2c9-5367eda73043",
   "metadata": {},
   "outputs": [
    {
     "name": "stdout",
     "output_type": "stream",
     "text": [
      "11.0 1100.0 10000\n"
     ]
    }
   ],
   "source": [
    "dtax = 1\n",
    "dgucci_price, dtax =  mul_tax_layer.backward(dtax)\n",
    "dgucci, dgucci_num = mul_gucci_layer.backward(dgucci_price)\n",
    "print(dgucci, dgucci_num, dtax)"
   ]
  },
  {
   "cell_type": "raw",
   "id": "59e10983-9b79-4bc3-9cf1-1f8cc7f65136",
   "metadata": {},
   "source": []
  }
 ],
 "metadata": {
  "kernelspec": {
   "display_name": "Python 3 (ipykernel)",
   "language": "python",
   "name": "python3"
  },
  "language_info": {
   "codemirror_mode": {
    "name": "ipython",
    "version": 3
   },
   "file_extension": ".py",
   "mimetype": "text/x-python",
   "name": "python",
   "nbconvert_exporter": "python",
   "pygments_lexer": "ipython3",
   "version": "3.9.19"
  }
 },
 "nbformat": 4,
 "nbformat_minor": 5
}

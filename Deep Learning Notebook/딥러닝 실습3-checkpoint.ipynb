{
 "cells": [
  {
   "cell_type": "code",
   "execution_count": 5,
   "id": "ec94e19b-86a2-4e2e-8a21-a6b451c0db39",
   "metadata": {},
   "outputs": [],
   "source": [
    "from sklearn.datasets import load_breast_cancer\n",
    "cancer = load_breast_cancer()"
   ]
  },
  {
   "cell_type": "code",
   "execution_count": 6,
   "id": "325cf1ca-5ee3-418b-acf3-bdea4742ef5c",
   "metadata": {},
   "outputs": [
    {
     "name": "stdout",
     "output_type": "stream",
     "text": [
      "(569, 30) (569,)\n"
     ]
    }
   ],
   "source": [
    "print(cancer.data.shape, cancer.target.shape)"
   ]
  },
  {
   "cell_type": "code",
   "execution_count": 7,
   "id": "1facd8b6-da48-4795-9f51-b86f8fa28038",
   "metadata": {},
   "outputs": [
    {
     "data": {
      "image/png": "[encoded data removed]",
      "text/plain": [
       "<Figure size 640x480 with 1 Axes>"
      ]
     },
     "metadata": {},
     "output_type": "display_data"
    }
   ],
   "source": [
    "import matplotlib.pyplot as plt\n",
    "plt.boxplot(cancer.data)\n",
    "plt.xlabel('feature')\n",
    "plt.ylabel('value')\n",
    "plt.show()"
   ]
  },
  {
   "cell_type": "code",
   "execution_count": 8,
   "id": "c5d0289a-2e8b-4978-ad07-08ca37a2771d",
   "metadata": {},
   "outputs": [
    {
     "data": {
      "text/plain": [
       "array(['mean area', 'area error', 'worst area'], dtype='<U23')"
      ]
     },
     "execution_count": 8,
     "metadata": {},
     "output_type": "execute_result"
    }
   ],
   "source": [
    "cancer.feature_names[[3,13,23]]"
   ]
  },
  {
   "cell_type": "code",
   "execution_count": 9,
   "id": "1a3840db-5ec2-4e96-8bf6-fcf26ec83503",
   "metadata": {},
   "outputs": [
    {
     "data": {
      "text/plain": [
       "(array([0, 1]), array([212, 357], dtype=int64))"
      ]
     },
     "execution_count": 9,
     "metadata": {},
     "output_type": "execute_result"
    }
   ],
   "source": [
    "import numpy as np\n",
    "np.unique(cancer.target, return_counts = True)"
   ]
  },
  {
   "cell_type": "code",
   "execution_count": 12,
   "id": "eb5f2c52-9854-4c6f-979d-bfeb2815a7ba",
   "metadata": {},
   "outputs": [],
   "source": [
    "from sklearn.model_selection import train_test_split\n",
    "x = cancer.data\n",
    "y = cancer.target\n",
    "x_train, x_test, y_train, y_test = train_test_split(x, y, stratify = y, test_size = 0.2)"
   ]
  },
  {
   "cell_type": "code",
   "execution_count": 13,
   "id": "bf7ce590-69e1-42fb-9e11-15ecca6cce1a",
   "metadata": {},
   "outputs": [],
   "source": [
    "class LogisticNeuron:\n",
    "    def __init__(self):\n",
    "        self.w = None\n",
    "        self.b = None\n",
    "    def forpass(self, x):\n",
    "        z = np.sum(x * self.w) + self.b\n",
    "        return z\n",
    "    def backprop(self, x, err):\n",
    "        w_grad = x * err\n",
    "        b_grad = 1 * err\n",
    "        return w_grad, b_grad\n",
    "    def fit(self, x, y, epochs=100):\n",
    "        self.w = np.ones(x.shape[1])\n",
    "        self.b = 0\n",
    "        for i in range(epochs):\n",
    "            for x_i, y_i in zip(x, y):\n",
    "                z = self.forpass(x_i)\n",
    "                a = self.activation(z)\n",
    "                err = -(y_i-a)\n",
    "                w_grad, b_grad = self.backprop(x_i, err)\n",
    "                self.w -= w_grad\n",
    "                self.b -= b_grad\n",
    "    def activation(self, z):\n",
    "        a = 1/(1+np.exp(-z))\n",
    "        return a\n",
    "    def predict(self, x):\n",
    "        z = [self.forpass(x_i) for x_i in x]\n",
    "        a = self.activation(np.array(z))\n",
    "        return a > 0.5"
   ]
  },
  {
   "cell_type": "code",
   "execution_count": 14,
   "id": "38f583c0-e2e1-4da2-a394-05083649adf8",
   "metadata": {},
   "outputs": [
    {
     "name": "stderr",
     "output_type": "stream",
     "text": [
      "C:\\Users\\iyjs9\\AppData\\Local\\Temp\\ipykernel_20496\\2945687325.py:24: RuntimeWarning: overflow encountered in exp\n",
      "  a = 1/(1+np.exp(-z))\n"
     ]
    }
   ],
   "source": [
    "neuron = LogisticNeuron()\n",
    "neuron.fit(x_train, y_train)"
   ]
  },
  {
   "cell_type": "code",
   "execution_count": 15,
   "id": "4981c05f-7864-4c51-a907-359f6e6f463e",
   "metadata": {},
   "outputs": [
    {
     "name": "stderr",
     "output_type": "stream",
     "text": [
      "C:\\Users\\iyjs9\\AppData\\Local\\Temp\\ipykernel_20496\\2945687325.py:24: RuntimeWarning: overflow encountered in exp\n",
      "  a = 1/(1+np.exp(-z))\n"
     ]
    },
    {
     "data": {
      "text/plain": [
       "0.9122807017543859"
      ]
     },
     "execution_count": 15,
     "metadata": {},
     "output_type": "execute_result"
    }
   ],
   "source": [
    "np.mean(neuron.predict(x_test) == y_test)"
   ]
  },
  {
   "cell_type": "code",
   "execution_count": 21,
   "id": "b626413f-81b5-43ce-8ece-1549909c4856",
   "metadata": {},
   "outputs": [],
   "source": [
    "class Singlelayer:\n",
    "    def __init__(self):\n",
    "        self.w = None\n",
    "        self.b = None\n",
    "        self.losses = []\n",
    "    def forpass(self, x):\n",
    "        z = np.sum(x * self.w) + self.b\n",
    "        return z\n",
    "    def backprop(self, x, err):\n",
    "        w_grad = x * err\n",
    "        b_grad = 1 * err\n",
    "        return w_grad, b_grad\n",
    "    def activation(self, z):\n",
    "        z = np.clip(z, -100, None)\n",
    "        a = 1/(1+np.exp(-z))\n",
    "        return a\n",
    "    def fit(self, x, y, epochs=100):\n",
    "        self.w = np.ones(x.shape[1])\n",
    "        self.b = 0\n",
    "        for i in range(epochs):\n",
    "            loss = 0\n",
    "            indexes = np.random.permutation(np.arange(len(x)))\n",
    "            for i in indexes:\n",
    "                z = self.forpass(x[i])\n",
    "                a = self.activation(z)\n",
    "                err = -(y[i]-a)\n",
    "                w_grad, b_grad = self.backprop(x[i], err)\n",
    "                self.w -= w_grad\n",
    "                self.b -= b_grad\n",
    "                a = np.clip(a, 1e-10, 1-1e-10)\n",
    "\n",
    "                loss += -(y[i]*np.log(a)+(1-y[i])*np.log(1-a))\n",
    "            self.losses.append(loss/len(y))\n",
    "    def predict(self, x):\n",
    "        z = [self.forpass(x_i) for x_i in x]\n",
    "        return np.array(z) > 0\n",
    "    def score(self, x, y):\n",
    "        return np.mean(self.predict(x)==y)"
   ]
  },
  {
   "cell_type": "code",
   "execution_count": 24,
   "id": "f5a62bfa-c7da-44ba-a7c7-bd2615456e25",
   "metadata": {},
   "outputs": [
    {
     "data": {
      "text/plain": [
       "0.9122807017543859"
      ]
     },
     "execution_count": 24,
     "metadata": {},
     "output_type": "execute_result"
    }
   ],
   "source": [
    "layer = Singlelayer()\n",
    "layer.fit(x_train, y_train)\n",
    "layer.score(x_test, y_test)"
   ]
  },
  {
   "cell_type": "code",
   "execution_count": null,
   "id": "9b873047-c717-4202-bb76-fa1332820f49",
   "metadata": {},
   "outputs": [],
   "source": []
  }
 ],
 "metadata": {
  "kernelspec": {
   "display_name": "Python 3 (ipykernel)",
   "language": "python",
   "name": "python3"
  },
  "language_info": {
   "codemirror_mode": {
    "name": "ipython",
    "version": 3
   },
   "file_extension": ".py",
   "mimetype": "text/x-python",
   "name": "python",
   "nbconvert_exporter": "python",
   "pygments_lexer": "ipython3",
   "version": "3.9.19"
  }
 },
 "nbformat": 4,
 "nbformat_minor": 5
}

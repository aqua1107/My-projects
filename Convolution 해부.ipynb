{
 "cells": [
  {
   "cell_type": "code",
   "execution_count": 5,
   "id": "5c3aa363-e471-4288-b265-58fea5222138",
   "metadata": {},
   "outputs": [],
   "source": [
    "import numpy as np\n",
    "\n",
    "def Convolution(input_data, filters, stride=1, pad=0):\n",
    "    N, C, H, W = input_data.shape\n",
    "    f_N, f_C, f_H, f_W = filters.shape \n",
    "    \n",
    "    output_H = (H + 2 * pad - f_H) // stride + 1\n",
    "    output_W=  (W + 2 * pad - f_W) // stride + 1\n",
    "\n",
    "    pad_data = np.pad(input_data, [(0, 0), (0, 0), (pad, pad), (pad, pad)], 'constant')\n",
    "    \n",
    "    output = np.zeros((N, f_N, output_H, output_W))\n",
    "\n",
    "    for i in range(N):\n",
    "        for c in range(f_N):\n",
    "            for h in range(output_H):\n",
    "                h_start = h * stride\n",
    "                h_end = h_start + f_H\n",
    "                for w in range(output_W):\n",
    "                    w_start = w * stride\n",
    "                    w_end = w_start + f_W\n",
    "                    output[i, c, h, w] = np.sum(pad_data[i][:, h_start:h_end, w_start:w_end] * filters[c])\n",
    "    return output"
   ]
  },
  {
   "cell_type": "code",
   "execution_count": null,
   "id": "2dab8fa3-3f70-4d7c-97ef-afa5bb7b99b4",
   "metadata": {},
   "outputs": [],
   "source": [
    "def relu(x):\n",
    "    return max(0,x)"
   ]
  },
  {
   "cell_type": "code",
   "execution_count": null,
   "id": "07ef1b8c-b62e-428c-8b7d-1c2e702eef69",
   "metadata": {},
   "outputs": [],
   "source": [
    "def softmax(x):\n",
    "    "
   ]
  }
 ],
 "metadata": {
  "kernelspec": {
   "display_name": "Python 3 (ipykernel)",
   "language": "python",
   "name": "python3"
  },
  "language_info": {
   "codemirror_mode": {
    "name": "ipython",
    "version": 3
   },
   "file_extension": ".py",
   "mimetype": "text/x-python",
   "name": "python",
   "nbconvert_exporter": "python",
   "pygments_lexer": "ipython3",
   "version": "3.9.19"
  }
 },
 "nbformat": 4,
 "nbformat_minor": 5
}

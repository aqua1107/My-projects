{
 "cells": [
  {
   "cell_type": "code",
   "execution_count": 1,
   "id": "2188ab21-7383-4b59-9277-e31723169c72",
   "metadata": {},
   "outputs": [
    {
     "name": "stdout",
     "output_type": "stream",
     "text": [
      "1 : 4\n",
      "2 : 19\n",
      "3 : 44\n",
      "4 : 78\n",
      "5 : 122\n",
      "6 : 176\n",
      "7 : 240\n",
      "8 : 313\n",
      "9 : 396\n",
      "10 : 490\n",
      "11 : 592\n",
      "12 : 705\n",
      "13 : 828\n",
      "14 : 960\n"
     ]
    },
    {
     "ename": "error",
     "evalue": "OpenCV(4.10.0) D:\\a\\opencv-python\\opencv-python\\opencv\\modules\\highgui\\src\\window_w32.cpp:1261: error: (-27:Null pointer) NULL window: 'Free Fall' in function 'cvDestroyWindow'\n",
     "output_type": "error",
     "traceback": [
      "\u001b[1;31m---------------------------------------------------------------------------\u001b[0m",
      "\u001b[1;31merror\u001b[0m                                     Traceback (most recent call last)",
      "\u001b[1;32m~\\AppData\\Local\\Temp\\ipykernel_12924\\1847525206.py\u001b[0m in \u001b[0;36m<module>\u001b[1;34m\u001b[0m\n\u001b[0;32m     20\u001b[0m         \u001b[1;32mbreak\u001b[0m\u001b[1;33m\u001b[0m\u001b[1;33m\u001b[0m\u001b[0m\n\u001b[0;32m     21\u001b[0m \u001b[1;33m\u001b[0m\u001b[0m\n\u001b[1;32m---> 22\u001b[1;33m \u001b[0mcv\u001b[0m\u001b[1;33m.\u001b[0m\u001b[0mdestroyWindow\u001b[0m\u001b[1;33m(\u001b[0m\u001b[1;34m'Free Fall'\u001b[0m\u001b[1;33m)\u001b[0m\u001b[1;33m\u001b[0m\u001b[1;33m\u001b[0m\u001b[0m\n\u001b[0m",
      "\u001b[1;31merror\u001b[0m: OpenCV(4.10.0) D:\\a\\opencv-python\\opencv-python\\opencv\\modules\\highgui\\src\\window_w32.cpp:1261: error: (-27:Null pointer) NULL window: 'Free Fall' in function 'cvDestroyWindow'\n"
     ]
    }
   ],
   "source": [
    "#창은 올바르게 뜨는데 커널이 쉽게 죽어버림\n",
    "import cv2 as cv\n",
    "from math import *\n",
    "import numpy as np\n",
    "\n",
    "cv.namedWindow('Free Fall')\n",
    "\n",
    "width = 512\n",
    "height = 960\n",
    "img = np.zeros((height,width,3), np.uint8)\n",
    "\n",
    "time = ypos = 0\n",
    "while True:\n",
    "    if (ypos+30) < height:\n",
    "        cv.circle(img, (256, 30+ypos), 10, (255, 0, 0), -1)\n",
    "        time +=1\n",
    "        ypos = int((9.8 * time**2)/2)\n",
    "        print(time,':', ypos)\n",
    "    cv.imshow(\"Clock\", img)\n",
    "    if cv.waitKey(100) >=0:\n",
    "        break\n",
    "\n",
    "cv.destroyWindow('Free Fall')"
   ]
  },
  {
   "cell_type": "code",
   "execution_count": null,
   "id": "e1de7ea9-38ed-4f13-a12d-4567b64459cf",
   "metadata": {},
   "outputs": [],
   "source": []
  }
 ],
 "metadata": {
  "kernelspec": {
   "display_name": "Python 3 (ipykernel)",
   "language": "python",
   "name": "python3"
  },
  "language_info": {
   "codemirror_mode": {
    "name": "ipython",
    "version": 3
   },
   "file_extension": ".py",
   "mimetype": "text/x-python",
   "name": "python",
   "nbconvert_exporter": "python",
   "pygments_lexer": "ipython3",
   "version": "3.9.19"
  }
 },
 "nbformat": 4,
 "nbformat_minor": 5
}

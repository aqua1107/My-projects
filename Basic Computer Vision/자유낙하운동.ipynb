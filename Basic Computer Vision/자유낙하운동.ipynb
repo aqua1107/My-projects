{
 "cells": [
  {
   "cell_type": "code",
   "execution_count": 10,
   "id": "2188ab21-7383-4b59-9277-e31723169c72",
   "metadata": {},
   "outputs": [
    {
     "name": "stdout",
     "output_type": "stream",
     "text": [
      "1 : 4\n",
      "2 : 19\n",
      "3 : 44\n",
      "4 : 78\n",
      "5 : 122\n",
      "6 : 176\n",
      "7 : 240\n",
      "8 : 313\n",
      "9 : 396\n",
      "10 : 490\n",
      "11 : 592\n",
      "12 : 705\n",
      "13 : 828\n",
      "14 : 960\n"
     ]
    }
   ],
   "source": [
    "#Enter키를 누르면 자유낙하운동 진행됨. 나가고 싶을 땐 X버튼과 Esc버튼 누르기.\n",
    "import cv2 as cv\n",
    "from math import *\n",
    "import numpy as np\n",
    "\n",
    "cv.namedWindow('Free Fall')\n",
    "\n",
    "width = 512\n",
    "height = 960\n",
    "img = np.zeros((height,width,3), np.uint8)\n",
    "\n",
    "time = ypos = 0\n",
    "while True:\n",
    "    if (ypos+30) < height:\n",
    "        cv.circle(img, (256, 30+ypos), 10, (255, 0, 0), -1)\n",
    "        time +=1\n",
    "        ypos = int((9.8 * time**2)/2)\n",
    "        print(time,':', ypos)\n",
    "    cv.imshow(\"Clock\", img)\n",
    "    if cv.waitKey(0) & 0xFF == 27:\n",
    "        break\n",
    "\n",
    "cv.destroyAllWindows()"
   ]
  },
  {
   "cell_type": "code",
   "execution_count": null,
   "id": "e1de7ea9-38ed-4f13-a12d-4567b64459cf",
   "metadata": {},
   "outputs": [],
   "source": []
  },
  {
   "cell_type": "code",
   "execution_count": null,
   "id": "43a6ad52-f478-44ba-a55e-c4fc2be8c069",
   "metadata": {},
   "outputs": [],
   "source": []
  }
 ],
 "metadata": {
  "kernelspec": {
   "display_name": "Python 3 (ipykernel)",
   "language": "python",
   "name": "python3"
  },
  "language_info": {
   "codemirror_mode": {
    "name": "ipython",
    "version": 3
   },
   "file_extension": ".py",
   "mimetype": "text/x-python",
   "name": "python",
   "nbconvert_exporter": "python",
   "pygments_lexer": "ipython3",
   "version": "3.9.19"
  }
 },
 "nbformat": 4,
 "nbformat_minor": 5
}

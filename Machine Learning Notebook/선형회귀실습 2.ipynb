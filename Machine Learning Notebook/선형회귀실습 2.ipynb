{
 "cells": [
  {
   "cell_type": "code",
   "execution_count": 13,
   "id": "26eb0192-4fc3-4e0e-abe9-edca32d4a7a3",
   "metadata": {},
   "outputs": [
    {
     "name": "stdout",
     "output_type": "stream",
     "text": [
      "공부한 시간 = 2, 실제점수 = 81, 예측점수 = 82\n",
      "공부한 시간 = 4, 실제점수 = 93, 예측점수 = 88\n",
      "공부한 시간 = 6, 실제점수 = 91, 예측점수 = 94\n",
      "공부한 시간 = 8, 실제점수 = 97, 예측점수 = 100\n",
      "3.3166247903554\n"
     ]
    }
   ],
   "source": [
    "import numpy as np\n",
    "\n",
    "ab = [3, 76]\n",
    "\n",
    "data = [[2,81], [4,93], [6,91], [8,97]]\n",
    "x = [i[0] for i in data]\n",
    "y = [i[1] for i in data]\n",
    "\n",
    "def predict(x):\n",
    "    return ab[0]*x + ab[1]\n",
    "\n",
    "def rmse(p, a):\n",
    "    return np.sqrt(((p-a)**2).mean())\n",
    "\n",
    "def rmse_val(predict_result, y):\n",
    "    return rmse(np.array(predict_result), np.array(y))\n",
    "\n",
    "predict_result = []\n",
    "\n",
    "for i in range(len(x)):\n",
    "    predict_result.append(predict(x[i]))\n",
    "    print(f\"공부한 시간 = {x[i]}, 실제점수 = {y[i]}, 예측점수 = {predict(x[i])}\")\n",
    "\n",
    "print(rmse_val(predict_result, y))"
   ]
  },
  {
   "cell_type": "code",
   "execution_count": null,
   "id": "e20c4c6f-5197-4628-a4fe-129d40c7b620",
   "metadata": {},
   "outputs": [],
   "source": []
  }
 ],
 "metadata": {
  "kernelspec": {
   "display_name": "Python 3 (ipykernel)",
   "language": "python",
   "name": "python3"
  },
  "language_info": {
   "codemirror_mode": {
    "name": "ipython",
    "version": 3
   },
   "file_extension": ".py",
   "mimetype": "text/x-python",
   "name": "python",
   "nbconvert_exporter": "python",
   "pygments_lexer": "ipython3",
   "version": "3.9.19"
  }
 },
 "nbformat": 4,
 "nbformat_minor": 5
}

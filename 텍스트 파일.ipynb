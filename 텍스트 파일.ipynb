{
 "cells": [
  {
   "cell_type": "code",
   "execution_count": 1,
   "id": "acc2083a-a97f-49fc-b5b3-3356f1a0f679",
   "metadata": {},
   "outputs": [
    {
     "name": "stdout",
     "output_type": "stream",
     "text": [
      "Eva\n",
      "Emily\n",
      "Abigale\n",
      "Betty\n",
      "Cohen\n",
      "Raymond\n",
      "Steve\n",
      "Andrew\n",
      "Simon\n",
      "John\n",
      "Rebecca\n",
      "Vicky\n",
      "Danny\n",
      "Daniel\n",
      "Zoey"
     ]
    }
   ],
   "source": [
    "fp = open(\"C:/Users/iyjs9/Pictures/바탕 화면/names.txt\", \"r\", encoding=\"utf-8\")\n",
    "str = fp.read()\n",
    "print(str, end=\"\")\n",
    "fp.close()"
   ]
  },
  {
   "cell_type": "code",
   "execution_count": 3,
   "id": "752f5cca-10df-4927-a7fd-284fe2c25b90",
   "metadata": {},
   "outputs": [],
   "source": [
    "import pickle\n",
    "group_name = 'BlackPink'\n",
    "member = 4\n",
    "company = 'YG엔터테인먼트'\n",
    "songs = {'마지막처럼': 2017, 'Kill this love': 2019, 'DDU-DU DDU-DU': 2020}\n",
    "file = open('data.dat', 'wb')\n",
    "pickle.dump(group_name, file)\n",
    "pickle.dump(member, file)\n",
    "pickle.dump(company, file)\n",
    "pickle.dump(songs, file)\n",
    "file.close()"
   ]
  },
  {
   "cell_type": "code",
   "execution_count": 4,
   "id": "af0cd8ac-c38c-4212-97c5-591bddb16be0",
   "metadata": {},
   "outputs": [
    {
     "name": "stdout",
     "output_type": "stream",
     "text": [
      "BlackPink\n",
      "4\n",
      "YG엔터테인먼트\n",
      "{'마지막처럼': 2017, 'Kill this love': 2019, 'DDU-DU DDU-DU': 2020}\n"
     ]
    }
   ],
   "source": [
    "file = open('data.dat', 'rb')\n",
    "group_name= pickle.load(file)\n",
    "member = pickle.load(file)\n",
    "company = pickle.load(file)\n",
    "songs = pickle.load(file)\n",
    "file.close()\n",
    "print(group_name)\n",
    "print(member)\n",
    "print(company)\n",
    "print(songs)"
   ]
  },
  {
   "cell_type": "code",
   "execution_count": 9,
   "id": "a722aa2a-4733-4808-9546-bc118924f2a6",
   "metadata": {},
   "outputs": [
    {
     "name": "stdout",
     "output_type": "stream",
     "text": [
      "1. 기존 파일 출력\n",
      "Aidall\n",
      "2. 기존 파일 변경\n"
     ]
    },
    {
     "name": "stdin",
     "output_type": "stream",
     "text": [
      "저장할 내용 :  ㅕㅛㅛ\n"
     ]
    }
   ],
   "source": [
    "print(\"1. 기존 파일 출력\")\n",
    "fp = open(\"C:/data.txt\", \"r\", encoding=\"utf-8\")\n",
    "str1 = fp.read()\n",
    "print(str1, end=\"\")\n",
    "fp.close()\n",
    "print(\"2. 기존 파일 변경\")\n",
    "fp = open(\"./data.txt\", \"a\", encoding=\"utf-8\")\n",
    "str2 = input(\"저장할 내용 : \")\n",
    "if str2 != \"\":\n",
    "    fp.writelines(str2+\"\\n\")\n",
    "else:\n",
    "    print(\"저장할 내용이 없습니다.\")\n",
    "    fp.close()\n",
    "    print(\"3. 변경 파일 출력\")\n",
    "    fp = open(\"./data.txt\", \"r\", encoding=\"utf-8\")\n",
    "    str3 = fp.read()"
   ]
  },
  {
   "cell_type": "code",
   "execution_count": 1,
   "id": "1cc9656e-48e3-4d66-b5a4-5291ab703522",
   "metadata": {
    "scrolled": true
   },
   "outputs": [],
   "source": [
    "fp = open(\"C:/Users/iyjs9/Pictures/바탕 화면/names.txt\", \"r\", encoding=\"utf-8\")"
   ]
  },
  {
   "cell_type": "code",
   "execution_count": 3,
   "id": "3975bc35-9f6e-4251-aad6-224bf3e0f6c3",
   "metadata": {},
   "outputs": [
    {
     "name": "stdout",
     "output_type": "stream",
     "text": [
      "Eva - len : 3\n",
      "The total number of names is 1, and there are 1 names with less than 7 letters.\n",
      "Emily - len : 5\n",
      "The total number of names is 2, and there are 2 names with less than 7 letters.\n",
      "Abigale - len : 7\n",
      "The total number of names is 3, and there are 3 names with less than 7 letters.\n",
      "Betty - len : 5\n",
      "The total number of names is 4, and there are 4 names with less than 7 letters.\n",
      "Cohen - len : 5\n",
      "The total number of names is 5, and there are 5 names with less than 7 letters.\n",
      "Raymond - len : 7\n",
      "The total number of names is 6, and there are 6 names with less than 7 letters.\n",
      "Steve - len : 5\n",
      "The total number of names is 7, and there are 7 names with less than 7 letters.\n",
      "Andrew - len : 6\n",
      "The total number of names is 8, and there are 8 names with less than 7 letters.\n",
      "Simon - len : 5\n",
      "The total number of names is 9, and there are 9 names with less than 7 letters.\n",
      "John - len : 4\n",
      "The total number of names is 10, and there are 10 names with less than 7 letters.\n",
      "Rebecca - len : 7\n",
      "The total number of names is 11, and there are 11 names with less than 7 letters.\n",
      "Vicky - len : 5\n",
      "The total number of names is 12, and there are 12 names with less than 7 letters.\n",
      "Danny - len : 5\n",
      "The total number of names is 13, and there are 13 names with less than 7 letters.\n",
      "Daniel - len : 6\n",
      "The total number of names is 14, and there are 14 names with less than 7 letters.\n",
      "Zoey - len : 4\n",
      "The total number of names is 15, and there are 15 names with less than 7 letters.\n"
     ]
    }
   ],
   "source": [
    "names = fp.readlines()\n",
    "fp.close()\n",
    "total_names = 0\n",
    "count = 0\n",
    "for name in names:\n",
    "    total_names += 1\n",
    "    name_strip =name.strip('\\n')\n",
    "    if len(name_strip) <= 7:\n",
    "        print(\"%s - len : %d\" %(name_strip, len(name_strip)))\n",
    "        count += 1\n",
    "        print(\"The total number of names is %d, and there are %d names with less than 7 letters.\" %(total_names, count))"
   ]
  },
  {
   "cell_type": "code",
   "execution_count": null,
   "id": "85ca9576-8f9c-43b1-9a26-0ea5ec9f1b79",
   "metadata": {},
   "outputs": [],
   "source": []
  }
 ],
 "metadata": {
  "kernelspec": {
   "display_name": "Python 3 (ipykernel)",
   "language": "python",
   "name": "python3"
  },
  "language_info": {
   "codemirror_mode": {
    "name": "ipython",
    "version": 3
   },
   "file_extension": ".py",
   "mimetype": "text/x-python",
   "name": "python",
   "nbconvert_exporter": "python",
   "pygments_lexer": "ipython3",
   "version": "3.9.19"
  }
 },
 "nbformat": 4,
 "nbformat_minor": 5
}

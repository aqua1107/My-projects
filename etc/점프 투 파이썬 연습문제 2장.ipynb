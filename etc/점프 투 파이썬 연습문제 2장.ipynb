{
 "cells": [
  {
   "cell_type": "markdown",
   "id": "25414053-e393-4360-a32e-c7b4b491a742",
   "metadata": {},
   "source": [
    "# 점프 투 파이썬 연습문제 2장"
   ]
  },
  {
   "cell_type": "code",
   "execution_count": 6,
   "id": "94096960-a5ef-4b24-93b5-11ca504cca7e",
   "metadata": {},
   "outputs": [
    {
     "data": {
      "text/plain": [
       "70.0"
      ]
     },
     "execution_count": 6,
     "metadata": {},
     "output_type": "execute_result"
    }
   ],
   "source": [
    "#1\n",
    "l = [80, 75, 55]\n",
    "sum(l)/len(l)"
   ]
  },
  {
   "cell_type": "code",
   "execution_count": 8,
   "id": "70440a74-afe5-4394-81b8-bc96cdc2badc",
   "metadata": {},
   "outputs": [
    {
     "name": "stdout",
     "output_type": "stream",
     "text": [
      "홀수입니다.\n"
     ]
    }
   ],
   "source": [
    "#2\n",
    "a = 13\n",
    "if a % 2 == 0:\n",
    "    print('짝수입니다.')\n",
    "else:\n",
    "    print('홀수입니다.')"
   ]
  },
  {
   "cell_type": "code",
   "execution_count": 10,
   "id": "7013801f-939b-45e1-b5ab-e67629a813f8",
   "metadata": {},
   "outputs": [
    {
     "name": "stdout",
     "output_type": "stream",
     "text": [
      "19881120\n",
      "1068234\n"
     ]
    }
   ],
   "source": [
    "#3\n",
    "pin = '881120-1068234'\n",
    "yyyymmdd = '19' + pin[:6]\n",
    "num = pin[7:]\n",
    "print(yyyymmdd)\n",
    "print(num)"
   ]
  },
  {
   "cell_type": "code",
   "execution_count": 12,
   "id": "80305a35-1f6f-440e-af84-424c3d26a361",
   "metadata": {},
   "outputs": [
    {
     "name": "stdout",
     "output_type": "stream",
     "text": [
      "1\n"
     ]
    }
   ],
   "source": [
    "#4\n",
    "pin = '881120-1068234'\n",
    "print(pin[7])"
   ]
  },
  {
   "cell_type": "code",
   "execution_count": 16,
   "id": "500c5805-ecb7-49f7-a1be-fa503522650b",
   "metadata": {},
   "outputs": [
    {
     "name": "stdout",
     "output_type": "stream",
     "text": [
      "a#b#c#d\n"
     ]
    }
   ],
   "source": [
    "#5\n",
    "a = \"a:b:c:d\"\n",
    "b = a.replace(':','#')\n",
    "print(b)"
   ]
  },
  {
   "cell_type": "code",
   "execution_count": 24,
   "id": "53a3f156-f232-4a5d-a8be-4e8f3edfe576",
   "metadata": {},
   "outputs": [
    {
     "name": "stdout",
     "output_type": "stream",
     "text": [
      "[5, 4, 3, 2, 1]\n"
     ]
    }
   ],
   "source": [
    "#6\n",
    "a = [1,3,5,4,2]\n",
    "a.sort()\n",
    "a.reverse()\n",
    "print(a)"
   ]
  },
  {
   "cell_type": "code",
   "execution_count": 28,
   "id": "15533162-f939-4516-bc13-1eefbc32d906",
   "metadata": {},
   "outputs": [
    {
     "name": "stdout",
     "output_type": "stream",
     "text": [
      "Life is too short\n"
     ]
    }
   ],
   "source": [
    "#7\n",
    "a = ['Life', 'is', 'too', 'short']\n",
    "result = \" \".join(a)\n",
    "print(result)"
   ]
  },
  {
   "cell_type": "code",
   "execution_count": 40,
   "id": "4f9198f9-8c87-4b58-bf47-c10a9202d3bd",
   "metadata": {},
   "outputs": [
    {
     "name": "stdout",
     "output_type": "stream",
     "text": [
      "(1, 2, 3, 4)\n"
     ]
    }
   ],
   "source": [
    "#8\n",
    "a = (1,2,3)\n",
    "a = a + (4,)\n",
    "print(a)"
   ]
  },
  {
   "cell_type": "markdown",
   "id": "8ac559e6-de8c-49cc-9adb-4581a79ec312",
   "metadata": {},
   "source": [
    "# 9: 3번\n",
    "## 이유: 리스트는 변하는 값이기 때문에 딕셔너리 키로 사용할 수 없기 때문이다."
   ]
  },
  {
   "cell_type": "code",
   "execution_count": 38,
   "id": "1fda3c8e-2be3-453d-b539-b0a01c49fbed",
   "metadata": {},
   "outputs": [
    {
     "name": "stdout",
     "output_type": "stream",
     "text": [
      "{'A': 90, 'C': 70}\n",
      "80\n"
     ]
    }
   ],
   "source": [
    "#10\n",
    "a = {'A':90,'B':80,'C':70}\n",
    "result = a.pop('B')\n",
    "print(a)\n",
    "print(result)"
   ]
  },
  {
   "cell_type": "code",
   "execution_count": 44,
   "id": "d5d7a187-d8ef-4d7b-94de-2281bd3ba5cc",
   "metadata": {},
   "outputs": [
    {
     "name": "stdout",
     "output_type": "stream",
     "text": [
      "[1, 2, 3, 4, 5]\n"
     ]
    }
   ],
   "source": [
    "#11\n",
    "a = {1,1,1,2,2,3,3,3,4,4,5}\n",
    "aSet = set(a)\n",
    "b = list(aSet)\n",
    "print(b)"
   ]
  },
  {
   "cell_type": "code",
   "execution_count": 50,
   "id": "ccedc512-b483-4ff3-a4db-64563c39efff",
   "metadata": {},
   "outputs": [
    {
     "name": "stdout",
     "output_type": "stream",
     "text": [
      "[1, 4, 3]\n"
     ]
    }
   ],
   "source": [
    "#12\n",
    "a = b = [1,2,3]\n",
    "a[1] = 4\n",
    "print(b)"
   ]
  },
  {
   "cell_type": "markdown",
   "id": "5f05e9d3-ae26-48f5-8940-f4b2b8afb95a",
   "metadata": {},
   "source": [
    "## 12번의 설명: 스와핑으로 a, b는 같은 메모리 칸에 저장되기 때문이다.(a,b 모두 동일한 객체)"
   ]
  }
 ],
 "metadata": {
  "kernelspec": {
   "display_name": "Python 3 (ipykernel)",
   "language": "python",
   "name": "python3"
  },
  "language_info": {
   "codemirror_mode": {
    "name": "ipython",
    "version": 3
   },
   "file_extension": ".py",
   "mimetype": "text/x-python",
   "name": "python",
   "nbconvert_exporter": "python",
   "pygments_lexer": "ipython3",
   "version": "3.9.19"
  }
 },
 "nbformat": 4,
 "nbformat_minor": 5
}

{
 "cells": [
  {
   "cell_type": "code",
   "execution_count": 1,
   "id": "b381d8b7-a51e-404c-9775-1fbea7d17c39",
   "metadata": {},
   "outputs": [
    {
     "name": "stdout",
     "output_type": "stream",
     "text": [
      "0 1 1 1 0 1 1 1\n"
     ]
    }
   ],
   "source": [
    "#SingleLayer(AND문제)의 3차원 버전\n",
    "\n",
    "import numpy as np\n",
    "\n",
    "def And(x1, x2, x3):\n",
    "    w1, w2, w3, threshold = 0.5, 1, 0.7, 0.5\n",
    "    out = x1*w1 + x2*w2 + x3*w3\n",
    "    if out>threshold:\n",
    "        return 1\n",
    "    else:\n",
    "        return 0\n",
    "print(And(0,0,0), And(0,0,1), And(0,1,0), And(0,1,1), And(1,0,0), And(1,0,1), And(1,1,0), And(1,1,1))"
   ]
  },
  {
   "cell_type": "code",
   "execution_count": 2,
   "id": "f9ed1a80-3a48-4136-b704-5913f05df54d",
   "metadata": {},
   "outputs": [
    {
     "data": {
      "text/plain": [
       "1"
      ]
     },
     "execution_count": 2,
     "metadata": {},
     "output_type": "execute_result"
    }
   ],
   "source": [
    "# 퍼셉트론의 유클리드 노음에서의 일반화\n",
    "\n",
    "import numpy as np\n",
    "import random\n",
    "\n",
    "def Gen_And(X, W, b):\n",
    "    out = np.dot(X, W) + b\n",
    "    threshold = len(X)/2  #임의의 로컬 값으로 임계값을 정하면 된다.\n",
    "    if out> threshold:\n",
    "        return 1\n",
    "    else:\n",
    "        return 0  #step-function\n",
    "np.random.seed(42) #난수 고정\n",
    "X = np.random.randint(0,2,10) # 0과 1만의 값을 갖는 X의 배열(정보이론의 시초)\n",
    "W = np.random.uniform(0,1,10) #표준균등분포 난수로 가중치 가정\n",
    "Gen_And(X, W, 4.9)"
   ]
  }
 ],
 "metadata": {
  "kernelspec": {
   "display_name": "Python 3 (ipykernel)",
   "language": "python",
   "name": "python3"
  },
  "language_info": {
   "codemirror_mode": {
    "name": "ipython",
    "version": 3
   },
   "file_extension": ".py",
   "mimetype": "text/x-python",
   "name": "python",
   "nbconvert_exporter": "python",
   "pygments_lexer": "ipython3",
   "version": "3.9.19"
  }
 },
 "nbformat": 4,
 "nbformat_minor": 5
}

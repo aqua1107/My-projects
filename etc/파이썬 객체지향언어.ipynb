{
 "cells": [
  {
   "cell_type": "code",
   "execution_count": 1,
   "id": "2e14239a-3dc9-4a07-b640-bb778a1a8e50",
   "metadata": {},
   "outputs": [],
   "source": [
    "# 클래스 문법\n",
    "class Calculator:\n",
    "    def __init__(self):\n",
    "        self.value = 0\n",
    "\n",
    "    def add(self, val):\n",
    "        self.value += val"
   ]
  },
  {
   "cell_type": "code",
   "execution_count": 5,
   "id": "79a972bf-fe3c-42fa-bd47-23f4eada3279",
   "metadata": {},
   "outputs": [],
   "source": [
    "#클래스 상속 및 메서드 추가\n",
    "class UpgradeCalculator(Calculator):\n",
    "    def minus(self, val):\n",
    "        self.value -= val"
   ]
  },
  {
   "cell_type": "code",
   "execution_count": 7,
   "id": "fa2a9e98-b78b-4a0f-bc62-848a0144c7d4",
   "metadata": {},
   "outputs": [
    {
     "name": "stdout",
     "output_type": "stream",
     "text": [
      "3\n"
     ]
    }
   ],
   "source": [
    "cal = UpgradeCalculator()\n",
    "cal.add(10)\n",
    "cal.minus(7)\n",
    "\n",
    "print(cal.value)"
   ]
  },
  {
   "cell_type": "code",
   "execution_count": 45,
   "id": "aa351331-284f-446e-95d0-51e9f5164605",
   "metadata": {},
   "outputs": [],
   "source": [
    "# 메서드 오버라이팅\n",
    "class MaxLimitCalculator(Calculator):\n",
    "    def add(self, val):\n",
    "        self.value += val\n",
    "        if self.value > 100:\n",
    "            self.value = 100"
   ]
  },
  {
   "cell_type": "code",
   "execution_count": 65,
   "id": "a17ee120-e4e7-41e5-9540-0f48bb738fff",
   "metadata": {},
   "outputs": [
    {
     "name": "stdout",
     "output_type": "stream",
     "text": [
      "100\n"
     ]
    }
   ],
   "source": [
    "a = MaxLimitCalculator()\n",
    "a.add(50)\n",
    "a.add(60)\n",
    "print(a.value)"
   ]
  },
  {
   "cell_type": "code",
   "execution_count": 51,
   "id": "a72d70be-ac59-47bd-8644-2fdbdf6a852d",
   "metadata": {},
   "outputs": [
    {
     "data": {
      "text/plain": [
       "[1, 3, 8]"
      ]
     },
     "execution_count": 51,
     "metadata": {},
     "output_type": "execute_result"
    }
   ],
   "source": [
    "#0과 음수 리스트에서 제거하는 함수 만들기\n",
    "l = [1,-2,3,-5,8,-3]\n",
    "list(filter(lambda x: x>=0, l))"
   ]
  },
  {
   "cell_type": "code",
   "execution_count": 67,
   "id": "6ffb12db-db01-4c06-bbcc-413afed6b123",
   "metadata": {},
   "outputs": [
    {
     "name": "stdout",
     "output_type": "stream",
     "text": [
      "0xea\n"
     ]
    },
    {
     "data": {
      "text/plain": [
       "234"
      ]
     },
     "execution_count": 67,
     "metadata": {},
     "output_type": "execute_result"
    }
   ],
   "source": [
    "#10진수에서 16진수, 16진수에서 10진수로 변환하기\n",
    "a = hex(234)\n",
    "print(a)\n",
    "int(a, 16)"
   ]
  },
  {
   "cell_type": "code",
   "execution_count": 1,
   "id": "1ccc11bc-8677-4cb4-827e-748a4af84b21",
   "metadata": {},
   "outputs": [
    {
     "data": {
      "text/plain": [
       "[3, 6, 9, 12]"
      ]
     },
     "execution_count": 1,
     "metadata": {},
     "output_type": "execute_result"
    }
   ],
   "source": [
    "#map과 lambda를 사용하여 컴프리헨션 만들기\n",
    "list(map(lambda x: x*3, [1,2,3,4]))"
   ]
  },
  {
   "cell_type": "code",
   "execution_count": 11,
   "id": "acd15a12-0c69-4e62-8c0e-d1f55a3b39e2",
   "metadata": {},
   "outputs": [
    {
     "data": {
      "text/plain": [
       "'2024/08/25 14:54:52'"
      ]
     },
     "execution_count": 11,
     "metadata": {},
     "output_type": "execute_result"
    }
   ],
   "source": [
    "#현재 날짜\n",
    "import time\n",
    "time.strftime(\"%Y/%m/%d %H:%M:%S\")"
   ]
  },
  {
   "cell_type": "code",
   "execution_count": 15,
   "id": "13f0118c-88a2-4a7f-b74d-aa2b21dbea3f",
   "metadata": {},
   "outputs": [
    {
     "name": "stdout",
     "output_type": "stream",
     "text": [
      "[9, 18, 29, 7, 17, 2]\n"
     ]
    }
   ],
   "source": [
    "#로또복권 6/45의 원리\n",
    "import random\n",
    "\n",
    "result = []\n",
    "while len(result)<6:\n",
    "    num = random.randint(1,45)\n",
    "    if num not in result:\n",
    "        result.append(num)\n",
    "\n",
    "print(result)"
   ]
  },
  {
   "cell_type": "code",
   "execution_count": null,
   "id": "d6853376-38fc-414f-ad12-b4e9473a55c7",
   "metadata": {},
   "outputs": [],
   "source": []
  }
 ],
 "metadata": {
  "kernelspec": {
   "display_name": "Python 3 (ipykernel)",
   "language": "python",
   "name": "python3"
  },
  "language_info": {
   "codemirror_mode": {
    "name": "ipython",
    "version": 3
   },
   "file_extension": ".py",
   "mimetype": "text/x-python",
   "name": "python",
   "nbconvert_exporter": "python",
   "pygments_lexer": "ipython3",
   "version": "3.9.19"
  }
 },
 "nbformat": 4,
 "nbformat_minor": 5
}

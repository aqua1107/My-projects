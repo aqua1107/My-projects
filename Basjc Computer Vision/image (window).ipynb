{
 "cells": [
  {
   "cell_type": "code",
   "execution_count": 1,
   "id": "9044483d-dbd7-4ffb-92ce-fe4b10290c80",
   "metadata": {},
   "outputs": [
    {
     "data": {
      "text/plain": [
       "-1"
      ]
     },
     "execution_count": 1,
     "metadata": {},
     "output_type": "execute_result"
    }
   ],
   "source": [
    "#사진 보정 필요(창에 업로드는 됨)\n",
    "import numpy as np\n",
    "import cv2 as cv\n",
    "\n",
    "img = cv.imread('C:/Users/iyjs9/Pictures/20240520_190625.jpg')\n",
    "\n",
    "height = img.shape[0]\n",
    "width = img.shape[1]\n",
    "\n",
    "for y in range(0, height):\n",
    "    img.itemset(y, width // 2, 0, 0)\n",
    "    img.itemset(y, width // 2, 1, 0)\n",
    "    img.itemset(y, width // 2, 2, 255)\n",
    "for x in range(0, width):\n",
    "    img.itemset(height // 2,x ,0 ,255)\n",
    "    img.itemset(height // 2,x ,1 ,0)\n",
    "    img.itemset(height // 2,x ,2 ,0)\n",
    "\n",
    "cv.imshow('win', img)\n",
    "cv.waitKey(0)"
   ]
  },
  {
   "cell_type": "code",
   "execution_count": null,
   "id": "38daba78-5f2c-4581-8dc7-1b470c05f226",
   "metadata": {},
   "outputs": [],
   "source": []
  }
 ],
 "metadata": {
  "kernelspec": {
   "display_name": "Python 3 (ipykernel)",
   "language": "python",
   "name": "python3"
  },
  "language_info": {
   "codemirror_mode": {
    "name": "ipython",
    "version": 3
   },
   "file_extension": ".py",
   "mimetype": "text/x-python",
   "name": "python",
   "nbconvert_exporter": "python",
   "pygments_lexer": "ipython3",
   "version": "3.9.19"
  }
 },
 "nbformat": 4,
 "nbformat_minor": 5
}

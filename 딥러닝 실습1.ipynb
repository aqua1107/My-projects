{
 "cells": [
  {
   "cell_type": "code",
   "execution_count": 53,
   "id": "c7efb140-c67a-4de7-b553-79dd34c606f9",
   "metadata": {},
   "outputs": [],
   "source": [
    "from tensorflow import keras"
   ]
  },
  {
   "cell_type": "code",
   "execution_count": 55,
   "id": "ea3eefaf-f140-429d-88ad-9921c2203733",
   "metadata": {},
   "outputs": [],
   "source": [
    "from keras.datasets import mnist"
   ]
  },
  {
   "cell_type": "code",
   "execution_count": 57,
   "id": "cfc9f022-6797-41a0-a17d-ea5ca5791332",
   "metadata": {},
   "outputs": [],
   "source": [
    "(X_train, y_train), (X_test, y_test) = mnist.load_data()"
   ]
  },
  {
   "cell_type": "code",
   "execution_count": 59,
   "id": "95731f98-88d9-4db5-8c57-b85624cd426d",
   "metadata": {},
   "outputs": [],
   "source": [
    "X_train = X_train / 255\n",
    "X_test = X_test / 255"
   ]
  },
  {
   "cell_type": "code",
   "execution_count": 61,
   "id": "aba35f0a-d464-4288-b8e3-a24c3adefee1",
   "metadata": {},
   "outputs": [
    {
     "name": "stdout",
     "output_type": "stream",
     "text": [
      "(60000, 28, 28) (60000,)\n",
      "(10000, 28, 28) (10000,)\n"
     ]
    }
   ],
   "source": [
    "print(X_train.shape, y_train.shape)\n",
    "print(X_test.shape, y_test.shape)"
   ]
  },
  {
   "cell_type": "code",
   "execution_count": 63,
   "id": "aaaae46f-5b47-4ee1-ab60-4f1cfa0d5549",
   "metadata": {},
   "outputs": [],
   "source": [
    "X_train = X_train.reshape(X_train.shape[0], 28, 28, 1).astype('float32')\n",
    "X_test = X_test.reshape(X_test.shape[0], 28, 28, 1).astype('float32')"
   ]
  },
  {
   "cell_type": "code",
   "execution_count": 65,
   "id": "23b04320-9f6f-4802-bb70-9acaf592e3d9",
   "metadata": {},
   "outputs": [],
   "source": [
    "from keras.utils import to_categorical\n",
    "y_train = to_categorical(y_train)\n",
    "y_test = to_categorical(y_test)\n",
    "num_classes = y_test.shape[1]"
   ]
  },
  {
   "cell_type": "code",
   "execution_count": 67,
   "id": "d7f32474-0daa-4506-a230-6695c4798c42",
   "metadata": {},
   "outputs": [],
   "source": [
    "from keras.models import Sequential\n",
    "from keras.layers import Dense, Dropout, Activation, Flatten\n",
    "from keras.layers import Conv2D, MaxPooling2D"
   ]
  },
  {
   "cell_type": "code",
   "execution_count": 69,
   "id": "4a6f7a41-e343-4448-ad4f-8783a9c283d8",
   "metadata": {},
   "outputs": [],
   "source": [
    "def convolutional_model():   \n",
    "    model = Sequential()\n",
    "    model.add(Conv2D(16, (5, 5), strides=(1, 1), activation='relu', input_shape=(28, 28, 1)))\n",
    "    model.add(MaxPooling2D(pool_size=(2, 2), strides=(2, 2)))\n",
    "    model.add(Flatten())\n",
    "    model.add(Dense(100, activation='relu'))\n",
    "    model.add(Dense(num_classes, activation='softmax'))\n",
    "    return model"
   ]
  },
  {
   "cell_type": "code",
   "execution_count": 71,
   "id": "91bcfd54-272d-4562-a23b-21f49adecfaa",
   "metadata": {},
   "outputs": [
    {
     "name": "stdout",
     "output_type": "stream",
     "text": [
      "Model: \"sequential_3\"\n",
      "_________________________________________________________________\n",
      " Layer (type)                Output Shape              Param #   \n",
      "=================================================================\n",
      " conv2d_2 (Conv2D)           (None, 24, 24, 16)        416       \n",
      "                                                                 \n",
      " max_pooling2d_2 (MaxPooling  (None, 12, 12, 16)       0         \n",
      " 2D)                                                             \n",
      "                                                                 \n",
      " flatten_2 (Flatten)         (None, 2304)              0         \n",
      "                                                                 \n",
      " dense_3 (Dense)             (None, 100)               230500    \n",
      "                                                                 \n",
      " dense_4 (Dense)             (None, 10)                1010      \n",
      "                                                                 \n",
      "=================================================================\n",
      "Total params: 231,926\n",
      "Trainable params: 231,926\n",
      "Non-trainable params: 0\n",
      "_________________________________________________________________\n"
     ]
    }
   ],
   "source": [
    "model = convolutional_model()\n",
    "model.summary()"
   ]
  },
  {
   "cell_type": "code",
   "execution_count": 73,
   "id": "1be38bb0-5395-4ff9-8cfa-099701c40ee2",
   "metadata": {},
   "outputs": [],
   "source": [
    "model.compile(optimizer='adam', loss='categorical_crossentropy',  metrics=['accuracy'])"
   ]
  },
  {
   "cell_type": "code",
   "execution_count": 75,
   "id": "ceb49c9c-6248-4694-93e4-d05ff7278a37",
   "metadata": {},
   "outputs": [
    {
     "name": "stdout",
     "output_type": "stream",
     "text": [
      "Epoch 1/10\n",
      "300/300 - 7s - loss: 0.3044 - accuracy: 0.9170 - val_loss: 0.1107 - val_accuracy: 0.9678 - 7s/epoch - 23ms/step\n",
      "Epoch 2/10\n",
      "300/300 - 6s - loss: 0.0908 - accuracy: 0.9738 - val_loss: 0.0751 - val_accuracy: 0.9765 - 6s/epoch - 20ms/step\n",
      "Epoch 3/10\n",
      "300/300 - 7s - loss: 0.0617 - accuracy: 0.9818 - val_loss: 0.0594 - val_accuracy: 0.9802 - 7s/epoch - 24ms/step\n",
      "Epoch 4/10\n",
      "300/300 - 7s - loss: 0.0477 - accuracy: 0.9860 - val_loss: 0.0440 - val_accuracy: 0.9846 - 7s/epoch - 25ms/step\n",
      "Epoch 5/10\n",
      "300/300 - 7s - loss: 0.0396 - accuracy: 0.9879 - val_loss: 0.0465 - val_accuracy: 0.9846 - 7s/epoch - 23ms/step\n",
      "Epoch 6/10\n",
      "300/300 - 7s - loss: 0.0324 - accuracy: 0.9903 - val_loss: 0.0411 - val_accuracy: 0.9861 - 7s/epoch - 24ms/step\n",
      "Epoch 7/10\n",
      "300/300 - 7s - loss: 0.0271 - accuracy: 0.9916 - val_loss: 0.0400 - val_accuracy: 0.9871 - 7s/epoch - 23ms/step\n",
      "Epoch 8/10\n",
      "300/300 - 6s - loss: 0.0237 - accuracy: 0.9927 - val_loss: 0.0352 - val_accuracy: 0.9877 - 6s/epoch - 21ms/step\n",
      "Epoch 9/10\n",
      "300/300 - 6s - loss: 0.0189 - accuracy: 0.9944 - val_loss: 0.0374 - val_accuracy: 0.9875 - 6s/epoch - 20ms/step\n",
      "Epoch 10/10\n",
      "300/300 - 6s - loss: 0.0155 - accuracy: 0.9954 - val_loss: 0.0367 - val_accuracy: 0.9878 - 6s/epoch - 21ms/step\n"
     ]
    },
    {
     "data": {
      "text/plain": [
       "<keras.callbacks.History at 0x2a62404c6d0>"
      ]
     },
     "execution_count": 75,
     "metadata": {},
     "output_type": "execute_result"
    }
   ],
   "source": [
    "model.fit(X_train, y_train, validation_data=(X_test, y_test), epochs=10, batch_size=200, verbose = 2)"
   ]
  },
  {
   "cell_type": "code",
   "execution_count": 77,
   "id": "2619da33-fb0c-4879-ac83-a970cd97c4f4",
   "metadata": {},
   "outputs": [
    {
     "name": "stdout",
     "output_type": "stream",
     "text": [
      "Accuracy: 0.9878000020980835 \n",
      " Error: 1.2199997901916504\n"
     ]
    }
   ],
   "source": [
    "scores = model.evaluate(X_test, y_test, verbose=0)\n",
    "print(\"Accuracy: {} \\n Error: {}\".format(scores[1], 100-scores[1]*100))"
   ]
  },
  {
   "cell_type": "code",
   "execution_count": null,
   "id": "5887c9da-259e-4cd1-b255-be976de21861",
   "metadata": {},
   "outputs": [],
   "source": []
  }
 ],
 "metadata": {
  "kernelspec": {
   "display_name": "Python 3 (ipykernel)",
   "language": "python",
   "name": "python3"
  },
  "language_info": {
   "codemirror_mode": {
    "name": "ipython",
    "version": 3
   },
   "file_extension": ".py",
   "mimetype": "text/x-python",
   "name": "python",
   "nbconvert_exporter": "python",
   "pygments_lexer": "ipython3",
   "version": "3.9.19"
  }
 },
 "nbformat": 4,
 "nbformat_minor": 5
}

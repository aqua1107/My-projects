{
 "cells": [
  {
   "cell_type": "code",
   "execution_count": null,
   "id": "205e4c01-7ab8-446c-8c06-4c228043a882",
   "metadata": {},
   "outputs": [],
   "source": [
    "#Run Time Error 수정 못함.\n",
    "import cv2\n",
    "import time\n",
    "from math import *\n",
    "import numpy as np\n",
    "\n",
    "cv2.namedWindow('Clock')\n",
    "img = np.zeros((512,512,3), np.uint8)\n",
    "while True:\n",
    "    cv2.circle(img, (256,256), 250, (125,125,125), -1)\n",
    "\n",
    "    now = time.localtime()\n",
    "    hour = now.tm_hour\n",
    "    min = now.tm_min\n",
    "if hour > 12:\n",
    "    hour -= 12\n",
    "\n",
    "    Ang_Min = min * 6\n",
    "    Ang_Hour = hour * 30 + min * 0.5\n",
    "    if(hour == 12 or 1<=hour<=2 ):\n",
    "        x_pos = int(150.0*cos((90.0-Ang_Hour)*np.pi/180))\n",
    "        y_pos = int(150.0*sin((90.0-Ang_Hour)*np.pi/180))\n",
    "        cv2.line(img, (256, 256), (256 + x_pos, 256 - y_pos), (0, 255, 0), 6)\n",
    "    elif(3 <= hour <= 5 ):\n",
    "        x_pos = int(150.0*cos((Ang_Hour-90.0)*np.pi/180))\n",
    "        y_pos = int(150.0*sin((Ang_Hour-90.0)*np.pi/180))\n",
    "        cv2.line(img, (256, 256), (256 + x_pos, 256 + y_pos), (0, 255, 0), 6)\n",
    "    elif (6 <= hour <= 8):\n",
    "        x_pos = int(150.0*sin((Ang_Hour-180.0)*np.pi/180))\n",
    "        y_pos = int(150.0*cos((Ang_Hour-180.0)*np.pi/180))\n",
    "        cv2.line(img, (256, 256), (256 - x_pos, 256 + y_pos), (0, 255, 0), 6)\n",
    "    elif (9 <= hour <= 11):\n",
    "        x_pos = int(150.0 * cos((Ang_Hour - 270.0) * np.pi / 180))\n",
    "        y_pos = int(150.0 * sin((Ang_Hour - 270.0) * np.pi / 180))\n",
    "        cv2.line(img, (256, 256), (256 - x_pos, 256 - y_pos), (0, 255, 0), 6)\n",
    "\n",
    "    if(min == 00 or 1<=hour<=14 ):\n",
    "        x_pos = int(200.0*cos((90.0-Ang_Min)*np.pi/180))\n",
    "        y_pos = int(200.0*sin((90.0-Ang_Min)*np.pi/180))\n",
    "        cv2.line(img, (256, 256), (256 + x_pos, 256 - y_pos), (255,0,0), 1)\n",
    "    elif(15 <= hour <= 29 ):\n",
    "        x_pos = int(200.0 * cos((Ang_Min-90.0) * np.pi / 180))\n",
    "        y_pos = int(200.0 * sin((Ang_Min-90.0) * np.pi / 180))\n",
    "        cv2.line(img, (256, 256), (256 + x_pos, 256 + y_pos), (255,0,0), 1)\n",
    "    elif (30 <= hour <= 44):\n",
    "        x_pos = int(200.0*sin((Ang_Min-180.0)*np.pi/180))\n",
    "        y_pos = int(200.0*cos((Ang_Min-180.0)*np.pi/180))\n",
    "        cv2.line(img, (256, 256), (256 - x_pos, 256 + y_pos), (255,0,0), 1)\n",
    "    elif (45 <= hour <= 59):\n",
    "        x_pos = int(200.0 * cos((Ang_Min - 270.0) * np.pi / 180))\n",
    "        y_pos = int(200.0 * sin((Ang_Min - 270.0) * np.pi / 180))\n",
    "        cv2.line(img, (256, 256), (256 - x_pos, 256 - y_pos), (255,0,0), 1)\n",
    "\n",
    "    cv2.imshow('Clock', img)\n",
    "    if cv2.waitKey(10) >= 0:\n",
    "        break\n",
    "cv2.destroyWindow('Clock')"
   ]
  },
  {
   "cell_type": "code",
   "execution_count": null,
   "id": "1adc807c-ace1-4db2-9eb5-0332cf0cfa62",
   "metadata": {},
   "outputs": [],
   "source": []
  },
  {
   "cell_type": "code",
   "execution_count": null,
   "id": "7e3ef18e-6cdf-4a01-aeb0-62635d4ae74e",
   "metadata": {},
   "outputs": [],
   "source": []
  }
 ],
 "metadata": {
  "kernelspec": {
   "display_name": "Python 3 (ipykernel)",
   "language": "python",
   "name": "python3"
  },
  "language_info": {
   "codemirror_mode": {
    "name": "ipython",
    "version": 3
   },
   "file_extension": ".py",
   "mimetype": "text/x-python",
   "name": "python",
   "nbconvert_exporter": "python",
   "pygments_lexer": "ipython3",
   "version": "3.9.19"
  }
 },
 "nbformat": 4,
 "nbformat_minor": 5
}
